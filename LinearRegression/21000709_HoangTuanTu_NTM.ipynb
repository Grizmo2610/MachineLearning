{
 "cells": [
  {
   "cell_type": "markdown",
   "metadata": {},
   "source": [
    "# Student information\n",
    "\n",
    "Name: Hoang Tuan Tu\n",
    "\n",
    "ID: 21000709"
   ]
  },
  {
   "cell_type": "code",
   "execution_count": null,
   "metadata": {},
   "outputs": [],
   "source": [
    "# Importing library\n",
    "import numpy as np\n",
    "import pandas as pd\n",
    "from sklearn.linear_model import LinearRegression"
   ]
  },
  {
   "cell_type": "code",
   "execution_count": null,
   "metadata": {},
   "outputs": [],
   "source": [
    "# Read data\n",
    "data = []\n",
    "with open(\"vidu3_lin_reg.txt\") as f:\n",
    "    data = f.readlines()\n",
    "\n",
    "# Remove header row\n",
    "data = data[1:]\n",
    "\n",
    "# slit and cast data to float\n",
    "data = [list(map(float, x.strip().split())) for x in data]\n",
    "\n",
    "# Cast data to numpy array\n",
    "data = np.array(data)\n",
    "\n",
    "# Remove index row\n",
    "data = data[:, 1:]\n",
    "\n",
    "print(data)"
   ]
  },
  {
   "cell_type": "code",
   "execution_count": null,
   "metadata": {},
   "outputs": [],
   "source": [
    "# Slit data to input data set and label\n",
    "label = data[:, len(data[0]) - 1:]\n",
    "data = data[:, :-1]\n",
    "\n",
    "\n",
    "print(data[:5])"
   ]
  },
  {
   "cell_type": "code",
   "execution_count": null,
   "metadata": {},
   "outputs": [],
   "source": [
    "# Slit data to test and train\n",
    "## Train dataset\n",
    "X_train = data[:80]\n",
    "Y_train = label[:80]\n",
    "\n",
    "## Test dataset\n",
    "X_test = data[80:]\n",
    "Y_test = label[80:]"
   ]
  },
  {
   "cell_type": "code",
   "execution_count": null,
   "metadata": {},
   "outputs": [],
   "source": [
    "# Train data\n",
    "print(X_train[:5])\n",
    "print(Y_train[:5])"
   ]
  },
  {
   "cell_type": "code",
   "execution_count": null,
   "metadata": {},
   "outputs": [],
   "source": [
    "# Test data\n",
    "print(X_test[:5])\n",
    "print(Y_test[:5])"
   ]
  },
  {
   "cell_type": "code",
   "execution_count": null,
   "metadata": {},
   "outputs": [],
   "source": [
    "# Define function\n",
    "def qr_householder(A):\n",
    "    M = A.shape[0]\n",
    "    N = A.shape[1]\n",
    "\n",
    "    # set Q to the identity matrix\n",
    "    Q = np.identity(M)\n",
    "\n",
    "    # set R to zero matrix\n",
    "    R = np.copy(A)\n",
    "\n",
    "    for n in range(N):\n",
    "    # vector to transform\n",
    "        x = A[n:, n]\n",
    "        k = x.shape[0]\n",
    "\n",
    "        # compute ro=-sign(x0)||x||\n",
    "        ro = -np.sign(x[0]) * np.linalg.norm(x)\n",
    "\n",
    "        # compute the householder vector v\n",
    "        e = np.zeros(k)\n",
    "        e[0] = 1\n",
    "        v = (1 / (x[0] - ro)) * (x - (ro * e))\n",
    "\n",
    "        # apply v to each column of A to find R\n",
    "        for i in range(N):\n",
    "            R[n:, i] = R[n:, i] - (2 / (v@v)) * ((np.outer(v, v)) @ R[n:, i])\n",
    "\n",
    "        # apply v to each column of Q\n",
    "        for i in range(M):\n",
    "            Q[n:, i] = Q[n:, i] - (2 / (v@v)) * ((np.outer(v, v)) @ Q[n:, i])\n",
    "\n",
    "    return Q.transpose(), R\n",
    "\n",
    "def linear_regression(x_data, y_data):\n",
    "    # add column 1\n",
    "    x_bars = np.concatenate((np.ones((x_data.shape[0], 1)), x_data), axis=1)\n",
    "\n",
    "    Q, R = qr_householder(x_bars) # QR decomposition\n",
    "    R_pinv = np.linalg.pinv(R) # calculate inverse matrix of R\n",
    "    A = np.dot(R_pinv, Q.T) # apply formula\n",
    "\n",
    "    return np.dot(A, y_data)"
   ]
  },
  {
   "cell_type": "code",
   "execution_count": null,
   "metadata": {},
   "outputs": [],
   "source": [
    "# Solve\n",
    "w = linear_regression(X_train, Y_train)\n",
    "w = w.T.tolist()\n",
    "intercept = w[0][0]\n",
    "coef = w[0][1:]\n",
    "print('Intercept:', intercept)\n",
    "print(\"Coefficient: \", coef)"
   ]
  },
  {
   "cell_type": "code",
   "execution_count": null,
   "metadata": {},
   "outputs": [],
   "source": [
    "# Predict with test data\n",
    "x = np.array(X_test)\n",
    "\n",
    "y_pred = np.array([intercept] * len(x))\n",
    "\n",
    "for i in range(len(x)):\n",
    "    for j in range(len(x[0])):\n",
    "        y_pred[i] += coef[j] * x[i, j]\n",
    "        \n",
    "print(y_pred)"
   ]
  },
  {
   "cell_type": "code",
   "execution_count": null,
   "metadata": {},
   "outputs": [],
   "source": [
    "# Skit learn solution\n",
    "model = LinearRegression()\n",
    "\n",
    "model.fit(X_train, Y_train)\n",
    "print(model.coef_[0])\n",
    "print(model.intercept_[0])"
   ]
  },
  {
   "cell_type": "code",
   "execution_count": null,
   "metadata": {},
   "outputs": [],
   "source": [
    "# Predict with sklearn solution\n",
    "pred = model.predict(X_test)\n",
    "print(pred.T[0])"
   ]
  },
  {
   "cell_type": "code",
   "execution_count": null,
   "metadata": {},
   "outputs": [],
   "source": [
    "df = pd.DataFrame({\"My Solution\" :  y_pred,\"Sklearn Solution\" : pred[:, 0], \"Label\": Y_test[:, 0]})\n",
    "print(df)"
   ]
  },
  {
   "cell_type": "code",
   "execution_count": null,
   "metadata": {},
   "outputs": [],
   "source": [
    "# Caculate Mean Squared Error\n",
    "mse = np.sum((Y_test - y_pred) ** 2) / len(y_pred)\n",
    "print(mse)"
   ]
  },
  {
   "cell_type": "code",
   "execution_count": null,
   "metadata": {},
   "outputs": [],
   "source": [
    "# caculate Variance of the Error Term\n",
    "var = np.sum((Y_test - y_pred - mse) ** 2) / len(y_pred)\n",
    "print(var)"
   ]
  }
 ],
 "metadata": {
  "kernelspec": {
   "display_name": "Python 3",
   "language": "python",
   "name": "python3"
  },
  "language_info": {
   "codemirror_mode": {
    "name": "ipython",
    "version": 3
   },
   "file_extension": ".py",
   "mimetype": "text/x-python",
   "name": "python",
   "nbconvert_exporter": "python",
   "pygments_lexer": "ipython3",
   "version": "3.11.4"
  }
 },
 "nbformat": 4,
 "nbformat_minor": 2
}
