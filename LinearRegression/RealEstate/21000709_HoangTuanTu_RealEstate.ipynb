{
 "cells": [
  {
   "cell_type": "markdown",
   "metadata": {},
   "source": [
    "# Student information\n",
    "\n",
    "Name: Hoang Tuan Tu\n",
    "\n",
    "ID: 21000709"
   ]
  },
  {
   "cell_type": "code",
   "execution_count": 382,
   "metadata": {},
   "outputs": [],
   "source": [
    "# Importing library\n",
    "import numpy as np\n",
    "import pandas as pd\n",
    "from sklearn.linear_model import LinearRegression"
   ]
  },
  {
   "cell_type": "code",
   "execution_count": 383,
   "metadata": {},
   "outputs": [],
   "source": [
    "# Reading data\n",
    "data = pd.read_csv('real_estate.csv')"
   ]
  },
  {
   "cell_type": "code",
   "execution_count": 384,
   "metadata": {},
   "outputs": [],
   "source": [
    "# Pre-processing\n",
    "\n",
    "## Removing first column (index column)\n",
    "data = data.drop(columns=['No'])\n",
    "\n",
    "## Change data type of X1\n",
    "data['X1 transaction date'] = data['X1 transaction date'].astype(int)"
   ]
  },
  {
   "cell_type": "code",
   "execution_count": 385,
   "metadata": {},
   "outputs": [
    {
     "name": "stdout",
     "output_type": "stream",
     "text": [
      "   X1 transaction date  X2 house age  X3 distance to the nearest MRT station  \\\n",
      "0                 2012          32.0                                84.87882   \n",
      "1                 2012          19.5                               306.59470   \n",
      "2                 2013          13.3                               561.98450   \n",
      "3                 2013          13.3                               561.98450   \n",
      "4                 2012           5.0                               390.56840   \n",
      "\n",
      "   X4 number of convenience stores  X5 latitude  X6 longitude  \\\n",
      "0                               10     24.98298     121.54024   \n",
      "1                                9     24.98034     121.53951   \n",
      "2                                5     24.98746     121.54391   \n",
      "3                                5     24.98746     121.54391   \n",
      "4                                5     24.97937     121.54245   \n",
      "\n",
      "   Y house price of unit area  \n",
      "0                        37.9  \n",
      "1                        42.2  \n",
      "2                        47.3  \n",
      "3                        54.8  \n",
      "4                        43.1  \n"
     ]
    }
   ],
   "source": [
    "# View first 5 row of data\n",
    "print(data.head(5))\n",
    "x_data = data.iloc[:,:-1]\n",
    "y_data = data['Y house price of unit area']"
   ]
  },
  {
   "cell_type": "markdown",
   "metadata": {},
   "source": [
    "# Slit data to train and test"
   ]
  },
  {
   "cell_type": "code",
   "execution_count": 386,
   "metadata": {},
   "outputs": [],
   "source": [
    "## Train data\n",
    "x_train = x_data[:350]\n",
    "y_train = y_data[:350]\n",
    "\n",
    "## Test data\n",
    "x_test = x_data[350:]\n",
    "y_test = y_data[350:]"
   ]
  },
  {
   "cell_type": "code",
   "execution_count": 387,
   "metadata": {},
   "outputs": [],
   "source": [
    "# Define function\n",
    "def qr_householder(A):\n",
    "    M = A.shape[0]\n",
    "    N = A.shape[1]\n",
    "\n",
    "    # set Q to the identity matrix\n",
    "    Q = np.identity(M)\n",
    "\n",
    "    # set R to zero matrix\n",
    "    R = np.copy(A)\n",
    "\n",
    "    for n in range(N):\n",
    "    # vector to transform\n",
    "        x = A[n:, n]\n",
    "        k = x.shape[0]\n",
    "\n",
    "        # compute ro=-sign(x0)||x||\n",
    "        ro = -np.sign(x[0]) * np.linalg.norm(x)\n",
    "\n",
    "        # compute the householder vector v\n",
    "        e = np.zeros(k)\n",
    "        e[0] = 1\n",
    "        v = (1 / (x[0] - ro)) * (x - (ro * e))\n",
    "\n",
    "        # apply v to each column of A to find R\n",
    "        for i in range(N):\n",
    "            R[n:, i] = R[n:, i] - (2 / (v@v)) * ((np.outer(v, v)) @ R[n:, i])\n",
    "\n",
    "        # apply v to each column of Q\n",
    "        for i in range(M):\n",
    "            Q[n:, i] = Q[n:, i] - (2 / (v@v)) * ((np.outer(v, v)) @ Q[n:, i])\n",
    "\n",
    "    return Q.transpose(), R\n",
    "\n",
    "def linear_regression(x_data, y_data):\n",
    "    # add column 1\n",
    "    x_bars = np.concatenate((np.ones((x_data.shape[0], 1)), x_data), axis=1)\n",
    "\n",
    "    Q, R = qr_householder(x_bars) # QR decomposition\n",
    "    R_pinv = np.linalg.pinv(R) # calculate inverse matrix of R\n",
    "    A = np.dot(R_pinv, Q.T) # apply formula\n",
    "\n",
    "    return np.dot(A, y_data)"
   ]
  },
  {
   "cell_type": "code",
   "execution_count": 388,
   "metadata": {},
   "outputs": [
    {
     "name": "stdout",
     "output_type": "stream",
     "text": [
      "Intercept: -9859.500752139651\n",
      "Coefficient:  [2.937206600866556, -0.27472311191143695, -0.004370149788463273, 1.1618225695590005, 234.46769598208985, -15.33576369370165]\n"
     ]
    }
   ],
   "source": [
    "w = linear_regression(x_data, y_data) # get result\n",
    "w = w.T.tolist()\n",
    "coef = w[1:]\n",
    "intercept = w[0]\n",
    "print('Intercept:', intercept)\n",
    "print(\"Coefficient: \", coef)"
   ]
  },
  {
   "cell_type": "code",
   "execution_count": 389,
   "metadata": {},
   "outputs": [
    {
     "name": "stdout",
     "output_type": "stream",
     "text": [
      "[42.78059274 32.60526828 26.12637597 35.59343372 31.37180724 49.41742525\n",
      " 39.44793757 52.41284316 48.64901623 27.97318862 46.15159586 41.33257179\n",
      " 44.04764989 48.86819503 41.78884723 29.42844377 25.77338657 30.24324187\n",
      " 39.88498541 28.1293385  43.85247872 43.86422703 41.07439298 45.07987782\n",
      " 48.62394007 30.71086237 33.69054696 49.16013422 40.4073473  51.21047775\n",
      " 47.28418693 54.57145766 15.41823335 37.34790486 12.93726214 53.11844413\n",
      " 40.48342432 31.83090876 33.75508788 40.76207676 43.94046628 30.28869431\n",
      " 39.33940067 44.10259452 15.23183325 38.45392515 28.16482452 44.94990368\n",
      " 33.69054696 38.86361493 41.2188481  34.52971949 38.82809755 45.3458884\n",
      " 46.65232377 37.88962235 50.51327045 28.08307786 31.59242114 16.12745646\n",
      " 50.39892957 47.27143635 46.1969649  53.08888537]\n"
     ]
    }
   ],
   "source": [
    "# Predict with test data\n",
    "x = np.array(x_test)\n",
    "\n",
    "y_pred = np.array([intercept] * len(x))\n",
    "\n",
    "for i in range(len(x)):\n",
    "    for j in range(len(x[0])):\n",
    "        y_pred[i] += coef[j] * x[i, j]\n",
    "        \n",
    "print(y_pred)"
   ]
  },
  {
   "cell_type": "markdown",
   "metadata": {},
   "source": [
    "# Solution Using Scikit learn"
   ]
  },
  {
   "cell_type": "code",
   "execution_count": 390,
   "metadata": {},
   "outputs": [
    {
     "name": "stdout",
     "output_type": "stream",
     "text": [
      "[ 2.93720660e+00 -2.74723112e-01 -4.37014979e-03  1.16182257e+00\n",
      "  2.34467696e+02 -1.53357637e+01]\n",
      "-9859.500751985148\n"
     ]
    }
   ],
   "source": [
    "# Build model\n",
    "model = LinearRegression()\n",
    "model.fit(x_data, y_data)\n",
    "\n",
    "print(model.coef_)\n",
    "print(model.intercept_)"
   ]
  },
  {
   "cell_type": "code",
   "execution_count": 391,
   "metadata": {},
   "outputs": [
    {
     "name": "stdout",
     "output_type": "stream",
     "text": [
      "[42.78059274 32.60526828 26.12637597 35.59343372 31.37180724 49.41742525\n",
      " 39.44793757 52.41284316 48.64901623 27.97318862 46.15159586 41.33257179\n",
      " 44.04764989 48.86819503 41.78884723 29.42844377 25.77338657 30.24324187\n",
      " 39.88498541 28.1293385  43.85247872 43.86422703 41.07439298 45.07987782\n",
      " 48.62394007 30.71086237 33.69054696 49.16013422 40.4073473  51.21047775\n",
      " 47.28418693 54.57145766 15.41823335 37.34790486 12.93726214 53.11844413\n",
      " 40.48342432 31.83090876 33.75508788 40.76207676 43.94046628 30.28869431\n",
      " 39.33940067 44.10259452 15.23183325 38.45392515 28.16482452 44.94990368\n",
      " 33.69054696 38.86361493 41.2188481  34.52971949 38.82809755 45.3458884\n",
      " 46.65232377 37.88962235 50.51327045 28.08307786 31.59242114 16.12745646\n",
      " 50.39892957 47.27143635 46.1969649  53.08888537]\n"
     ]
    }
   ],
   "source": [
    "# predict with test data\n",
    "sklearn_pred = model.predict(x_test)\n",
    "print(sklearn_pred)"
   ]
  },
  {
   "cell_type": "markdown",
   "metadata": {},
   "source": [
    "# Compraring solution and real house price"
   ]
  },
  {
   "cell_type": "code",
   "execution_count": 392,
   "metadata": {},
   "outputs": [
    {
     "name": "stdout",
     "output_type": "stream",
     "text": [
      "     My Solution  Sklearn solution  Real house price\n",
      "350    42.780593         42.780593              42.3\n",
      "351    32.605268         32.605268              28.6\n",
      "352    26.126376         26.126376              25.7\n",
      "353    35.593434         35.593434              31.3\n",
      "354    31.371807         31.371807              30.1\n",
      "..           ...               ...               ...\n",
      "409    16.127456         16.127456              15.4\n",
      "410    50.398930         50.398930              50.0\n",
      "411    47.271436         47.271436              40.6\n",
      "412    46.196965         46.196965              52.5\n",
      "413    53.088885         53.088885              63.9\n",
      "\n",
      "[64 rows x 3 columns]\n"
     ]
    }
   ],
   "source": [
    "df = pd.DataFrame({'My Solution': y_pred,\n",
    "                  'Sklearn solution': sklearn_pred, 'Real house price': y_test})\n",
    "print(df)"
   ]
  },
  {
   "cell_type": "code",
   "execution_count": 393,
   "metadata": {},
   "outputs": [
    {
     "name": "stdout",
     "output_type": "stream",
     "text": [
      "3978.2585329312396\n"
     ]
    }
   ],
   "source": [
    "# Caculate Sum of Squared Errors\n",
    "sse = np.sum((y_test - y_pred) ** 2)\n",
    "print(sse)"
   ]
  }
 ],
 "metadata": {
  "kernelspec": {
   "display_name": "Python 3",
   "language": "python",
   "name": "python3"
  },
  "language_info": {
   "codemirror_mode": {
    "name": "ipython",
    "version": 3
   },
   "file_extension": ".py",
   "mimetype": "text/x-python",
   "name": "python",
   "nbconvert_exporter": "python",
   "pygments_lexer": "ipython3",
   "version": "3.11.4"
  }
 },
 "nbformat": 4,
 "nbformat_minor": 2
}
