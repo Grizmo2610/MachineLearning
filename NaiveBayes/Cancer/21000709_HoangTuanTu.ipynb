{
 "cells": [
  {
   "cell_type": "markdown",
   "metadata": {},
   "source": [
    "# Student information\n",
    "\n",
    "Name: Hoang Tuan Tu\n",
    "\n",
    "ID: 21000709"
   ]
  },
  {
   "cell_type": "code",
   "execution_count": 73,
   "metadata": {},
   "outputs": [],
   "source": [
    "# Import library\n",
    "import numpy as np\n",
    "import pandas as pd"
   ]
  },
  {
   "cell_type": "code",
   "execution_count": 74,
   "metadata": {},
   "outputs": [],
   "source": [
    "# Define function to calculate mean and standard deviation of the data\n",
    "def mean_stddev(X):\n",
    "    mean = np.mean(X, axis=0)\n",
    "    stddev = np.std(X, axis=0)\n",
    "    return mean, stddev\n",
    "\n",
    "# Function to calculate Gaussian Probability\n",
    "def gaussian_probability(x, mean, stddev):\n",
    "    exponent = np.exp(-((x - mean) ** 2 / (2 * stddev ** 2)))\n",
    "    return (1 / (np.sqrt(2 * np.pi) * stddev)) * exponent\n",
    "\n",
    "# Naive Bayes Classification Function\n",
    "def naive_bayes_classify(X_train_benign, X_train_malignant, X_test):\n",
    "    # Calculate mean and standard deviation for each class\n",
    "    mean_benign, stddev_benign = mean_stddev(X_train_benign)\n",
    "    mean_malignant, stddev_malignant = mean_stddev(X_train_malignant)\n",
    "\n",
    "    # Calculate prior probabilities for each class\n",
    "    num_benign = len(X_train_benign)\n",
    "    num_malignant = len(X_train_malignant)\n",
    "    total_samples = num_benign + num_malignant\n",
    "    prior_benign = num_benign / total_samples\n",
    "    prior_malignant = num_malignant / total_samples\n",
    "\n",
    "    # Predict for test data\n",
    "    y_pred = []\n",
    "    for sample in X_test:\n",
    "        # Calculate prediction probabilities for benign and malignant samples\n",
    "        prob_benign = np.prod(gaussian_probability(sample, mean_benign, stddev_benign)) * prior_benign\n",
    "        prob_malignant = np.prod(gaussian_probability(sample, mean_malignant, stddev_malignant)) * prior_malignant\n",
    "\n",
    "        # Compare probabilities and classify sample based on the highest probability\n",
    "        if prob_benign > prob_malignant:\n",
    "            y_pred.append(2)  # Benign\n",
    "        else:\n",
    "            y_pred.append(4)  # Malignant\n",
    "\n",
    "    return np.array(y_pred)"
   ]
  },
  {
   "cell_type": "code",
   "execution_count": 75,
   "metadata": {},
   "outputs": [],
   "source": [
    "# Read data\n",
    "data_path = \"data.csv\"\n",
    "with open(data_path, 'r') as f:\n",
    "    data = f.readlines()"
   ]
  },
  {
   "cell_type": "code",
   "execution_count": 76,
   "metadata": {},
   "outputs": [],
   "source": [
    "# Preprocessing\n",
    "data = [list(map(int, x.strip().split(\",\")))[1:len(x)] for x in data]\n",
    "data = np.array(data)"
   ]
  },
  {
   "cell_type": "code",
   "execution_count": 77,
   "metadata": {},
   "outputs": [
    {
     "name": "stdout",
     "output_type": "stream",
     "text": [
      "   Type  Thickness  Csize  Cshape  Adhesion  Epithelial csize  Nuclei  \\\n",
      "0     2          5      1       1         1                 2       1   \n",
      "1     2          5      4       4         5                 7      10   \n",
      "2     2          3      1       1         1                 2       2   \n",
      "3     2          6      8       8         1                 3       4   \n",
      "4     2          4      1       1         3                 2       1   \n",
      "\n",
      "   Chromatin  Nucleoli  Mitoses  \n",
      "0          3         1        1  \n",
      "1          3         2        1  \n",
      "2          3         1        1  \n",
      "3          3         7        1  \n",
      "4          3         1        1  \n"
     ]
    }
   ],
   "source": [
    "# Visualize data\n",
    "label_df = ['Type', 'Thickness', 'Csize', 'Cshape','Adhesion',\n",
    " 'Epithelial csize' ,'Nuclei', 'Chromatin' ,'Nucleoli','Mitoses']\n",
    "\n",
    "temp = dict()\n",
    "\n",
    "for i in range(len(label_df)):\n",
    "    temp.setdefault(label_df[i], data[:,i])\n",
    "df = pd.DataFrame(temp)\n",
    "\n",
    "print(df.head(5))"
   ]
  },
  {
   "cell_type": "code",
   "execution_count": 78,
   "metadata": {},
   "outputs": [],
   "source": [
    "# Split data into classes\n",
    "X_benign = data[data[:, 0] == 2][:, 1:]\n",
    "X_malignant = data[data[:, 0] == 4][:, 1:]"
   ]
  },
  {
   "cell_type": "code",
   "execution_count": 79,
   "metadata": {},
   "outputs": [],
   "source": [
    "# Split data into training and testing data\n",
    "X_train_benign, X_test_benign = X_benign[:80], X_benign[80:]\n",
    "X_train_malignant, X_test_malignant = X_malignant[:40], X_malignant[40:]"
   ]
  },
  {
   "cell_type": "code",
   "execution_count": 80,
   "metadata": {},
   "outputs": [],
   "source": [
    "# Combine training and testing data again\n",
    "X_train = np.concatenate((X_train_benign, X_train_malignant))\n",
    "X_test = np.concatenate((X_test_benign, X_test_malignant))"
   ]
  },
  {
   "cell_type": "code",
   "execution_count": 81,
   "metadata": {},
   "outputs": [],
   "source": [
    "# Predict labels for testing data\n",
    "y_test_benign = np.full(len(X_test_benign), 2)\n",
    "y_test_malignant = np.full(len(X_test_malignant), 4)\n",
    "y_test = np.concatenate((y_test_benign, y_test_malignant))"
   ]
  },
  {
   "cell_type": "code",
   "execution_count": 82,
   "metadata": {},
   "outputs": [
    {
     "name": "stdout",
     "output_type": "stream",
     "text": [
      "[2 2 2 2 4 2 2 2 2 2 2 2 2 4 2 2 2 2 2 2 2 2 2 2 2 2 2 2 2 2 2 2 4 2 2 2 2\n",
      " 2 2 2 2 2 2 2 2 2 2 2 2 4 2 2 2 2 2 2 2 2 2 2 2 4 2 2 2 4 2 2 2 2 2 2 2 2\n",
      " 2 2 2 2 2 2 4 2 2 2 2 2 2 2 2 2 2 2 4 2 4 2 2 2 2 2 2 2 2 2 2 2 2 2 2 2 2\n",
      " 2 2 4 2 2 2 2 2 2 2 2 2 2 2 2 2 2 2 2 2 2 2 2 2 2 2 2 2 2 2 2 2 2 2 2 2 2\n",
      " 2 2 2 2 2 2 2 2 2 2 2 2 2 4 2 2 2 2 2 2 2 2 2 2 2 2 2 2 4 2 2 2 2 2 2 2 2\n",
      " 2 2 2 2 2 2 2 2 2 2 2 2 2 2 2 2 2 2 2 2 2 2 2 2 2 2 2 2 2 2 2 2 4 2 2 2 2\n",
      " 2 2 2 2 2 2 2 2 2 2 2 2 2 2 2 2 2 2 2 2 2 2 2 2 2 2 2 2 2 2 2 2 2 2 2 2 2\n",
      " 2 2 2 2 2 2 2 2 2 2 4 2 2 2 2 2 2 2 2 2 2 2 2 2 2 2 2 2 2 2 2 2 2 2 2 2 2\n",
      " 2 2 2 2 2 2 2 2 2 2 2 2 2 2 2 2 2 2 2 2 2 2 2 2 2 2 2 2 2 2 2 2 2 2 2 2 2\n",
      " 2 2 2 2 2 2 2 2 2 2 2 2 2 4 2 2 2 2 2 2 2 2 2 2 2 2 2 2 2 2 2 2 2 2 2 2 2\n",
      " 2 2 4 2 2 2 2 2 4 4 4 4 4 4 4 4 4 4 4 4 4 4 4 4 4 4 4 4 4 4 4 4 4 4 4 4 4\n",
      " 4 4 4 4 4 4 4 4 4 4 4 4 4 4 4 4 4 4 4 4 4 4 4 4 4 4 2 4 4 4 4 4 4 4 4 4 4\n",
      " 4 4 4 4 4 4 4 4 4 4 4 4 4 4 4 4 4 4 2 4 4 4 4 4 4 4 4 4 4 4 4 4 4 4 4 4 4\n",
      " 4 4 4 4 4 4 4 4 4 4 4 4 4 4 4 4 4 4 4 4 4 4 4 4 4 4 4 4 4 4 4 4 4 4 4 4 4\n",
      " 4 4 4 4 4 4 4 4 4 4 4 4 4 4 2 4 4 4 4 4 4 4 4 4 4 4 4 4 4 4 4 4 4 4 4 4 4\n",
      " 4 4 4 4 4 4 4 4 4 4 4 4 4 4 4 4 4 4 4 4 4 4 4 4]\n"
     ]
    }
   ],
   "source": [
    "# Predict results with X_test\n",
    "y_pred = naive_bayes_classify(X_train_benign, X_train_malignant, X_test)\n",
    "print(y_pred)"
   ]
  },
  {
   "cell_type": "code",
   "execution_count": 83,
   "metadata": {},
   "outputs": [
    {
     "name": "stdout",
     "output_type": "stream",
     "text": [
      "Accuracy: 96.72\n",
      "Precision: 92.52\n",
      "Recall: 98.51\n"
     ]
    }
   ],
   "source": [
    "# Calculate evaluation metrics\n",
    "correct_predictions = np.sum(y_test == y_pred)\n",
    "accuracy = correct_predictions / len(y_test)\n",
    "\n",
    "true_positives = np.sum((y_test == 4) & (y_pred == 4))\n",
    "false_positives = np.sum((y_test == 2) & (y_pred == 4))\n",
    "false_negatives = np.sum((y_test == 4) & (y_pred == 2))\n",
    "\n",
    "precision = true_positives / (true_positives + false_positives)\n",
    "recall = true_positives / (true_positives + false_negatives)\n",
    "\n",
    "# Print results\n",
    "print(f\"Accuracy: {accuracy * 100:.02f}\")\n",
    "print(f\"Precision: {precision * 100:.02f}\")\n",
    "print(f\"Recall: {recall * 100 :.02f}\")"
   ]
  }
 ],
 "metadata": {
  "kernelspec": {
   "display_name": "Python 3",
   "language": "python",
   "name": "python3"
  },
  "language_info": {
   "codemirror_mode": {
    "name": "ipython",
    "version": 3
   },
   "file_extension": ".py",
   "mimetype": "text/x-python",
   "name": "python",
   "nbconvert_exporter": "python",
   "pygments_lexer": "ipython3",
   "version": "3.11.4"
  }
 },
 "nbformat": 4,
 "nbformat_minor": 2
}
