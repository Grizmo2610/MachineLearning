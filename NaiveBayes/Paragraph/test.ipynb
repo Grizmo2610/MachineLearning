{
 "cells": [
  {
   "cell_type": "markdown",
   "metadata": {},
   "source": [
    "P(B) = $\\frac{3}{4}$; p(N) = $\\frac{1}{4}$\n",
    "\n",
    "\n"
   ]
  }
 ],
 "metadata": {
  "language_info": {
   "name": "python"
  }
 },
 "nbformat": 4,
 "nbformat_minor": 2
}
