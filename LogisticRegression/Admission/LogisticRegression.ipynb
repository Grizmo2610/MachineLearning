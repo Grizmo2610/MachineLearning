{
 "cells": [
  {
   "cell_type": "code",
   "execution_count": 2,
   "metadata": {},
   "outputs": [],
   "source": [
    "import numpy as np\n",
    "import pandas as pd\n",
    "from sklearn.linear_model import LogisticRegression\n",
    "from sklearn.linear_model import LinearRegression\n",
    "from sklearn.naive_bayes import MultinomialNB, BernoulliNB"
   ]
  },
  {
   "cell_type": "code",
   "execution_count": 3,
   "metadata": {},
   "outputs": [
    {
     "data": {
      "text/html": [
       "<div>\n",
       "<style scoped>\n",
       "    .dataframe tbody tr th:only-of-type {\n",
       "        vertical-align: middle;\n",
       "    }\n",
       "\n",
       "    .dataframe tbody tr th {\n",
       "        vertical-align: top;\n",
       "    }\n",
       "\n",
       "    .dataframe thead th {\n",
       "        text-align: right;\n",
       "    }\n",
       "</style>\n",
       "<table border=\"1\" class=\"dataframe\">\n",
       "  <thead>\n",
       "    <tr style=\"text-align: right;\">\n",
       "      <th></th>\n",
       "      <th>Serial No.</th>\n",
       "      <th>GRE Score</th>\n",
       "      <th>TOEFL Score</th>\n",
       "      <th>University Rating</th>\n",
       "      <th>SOP</th>\n",
       "      <th>LOR</th>\n",
       "      <th>CGPA</th>\n",
       "      <th>Research</th>\n",
       "      <th>Chance of Admit</th>\n",
       "    </tr>\n",
       "  </thead>\n",
       "  <tbody>\n",
       "    <tr>\n",
       "      <th>0</th>\n",
       "      <td>1</td>\n",
       "      <td>337</td>\n",
       "      <td>118</td>\n",
       "      <td>4</td>\n",
       "      <td>4.5</td>\n",
       "      <td>4.5</td>\n",
       "      <td>9.65</td>\n",
       "      <td>1</td>\n",
       "      <td>0.92</td>\n",
       "    </tr>\n",
       "    <tr>\n",
       "      <th>1</th>\n",
       "      <td>2</td>\n",
       "      <td>324</td>\n",
       "      <td>107</td>\n",
       "      <td>4</td>\n",
       "      <td>4.0</td>\n",
       "      <td>4.5</td>\n",
       "      <td>8.87</td>\n",
       "      <td>1</td>\n",
       "      <td>0.76</td>\n",
       "    </tr>\n",
       "    <tr>\n",
       "      <th>2</th>\n",
       "      <td>3</td>\n",
       "      <td>316</td>\n",
       "      <td>104</td>\n",
       "      <td>3</td>\n",
       "      <td>3.0</td>\n",
       "      <td>3.5</td>\n",
       "      <td>8.00</td>\n",
       "      <td>1</td>\n",
       "      <td>0.72</td>\n",
       "    </tr>\n",
       "    <tr>\n",
       "      <th>3</th>\n",
       "      <td>4</td>\n",
       "      <td>322</td>\n",
       "      <td>110</td>\n",
       "      <td>3</td>\n",
       "      <td>3.5</td>\n",
       "      <td>2.5</td>\n",
       "      <td>8.67</td>\n",
       "      <td>1</td>\n",
       "      <td>0.80</td>\n",
       "    </tr>\n",
       "    <tr>\n",
       "      <th>4</th>\n",
       "      <td>5</td>\n",
       "      <td>314</td>\n",
       "      <td>103</td>\n",
       "      <td>2</td>\n",
       "      <td>2.0</td>\n",
       "      <td>3.0</td>\n",
       "      <td>8.21</td>\n",
       "      <td>0</td>\n",
       "      <td>0.65</td>\n",
       "    </tr>\n",
       "  </tbody>\n",
       "</table>\n",
       "</div>"
      ],
      "text/plain": [
       "   Serial No.  GRE Score  TOEFL Score  University Rating  SOP  LOR   CGPA  \\\n",
       "0           1        337          118                  4  4.5   4.5  9.65   \n",
       "1           2        324          107                  4  4.0   4.5  8.87   \n",
       "2           3        316          104                  3  3.0   3.5  8.00   \n",
       "3           4        322          110                  3  3.5   2.5  8.67   \n",
       "4           5        314          103                  2  2.0   3.0  8.21   \n",
       "\n",
       "   Research  Chance of Admit  \n",
       "0         1             0.92  \n",
       "1         1             0.76  \n",
       "2         1             0.72  \n",
       "3         1             0.80  \n",
       "4         0             0.65  "
      ]
     },
     "execution_count": 3,
     "metadata": {},
     "output_type": "execute_result"
    }
   ],
   "source": [
    "# Đọc dữ liệu từ tệp csv\n",
    "data = pd.read_csv('Admission_Predict.csv')\n",
    "\n",
    "# Hiển thị thông tin cơ bản về dữ liệu\n",
    "data.head()"
   ]
  },
  {
   "cell_type": "code",
   "execution_count": 344,
   "metadata": {},
   "outputs": [],
   "source": [
    "data = data.drop('Serial No.', axis=1)"
   ]
  },
  {
   "cell_type": "code",
   "execution_count": 345,
   "metadata": {},
   "outputs": [],
   "source": [
    "# Hàm sigmoid\n",
    "def sigmoid(z):\n",
    "    return 1 / (1 + np.exp(-z))\n",
    "\n",
    "# Gradient descent\n",
    "def logistic_regression(X, y, learning_rate, iterations = 10000, tol=1e-4):\n",
    "    m, n = X.shape\n",
    "    theta = np.zeros(n)\n",
    "    for i in range(iterations):\n",
    "        z = np.dot(X, theta)\n",
    "        h = sigmoid(z)\n",
    "        gradient = np.dot(X.T, (h - y)) / m\n",
    "        if i % n == 0:\n",
    "            if np.linalg.norm(theta - theta + learning_rate * gradient) < tol:\n",
    "                return theta - learning_rate * gradient\n",
    "        theta -= learning_rate * gradient\n",
    "        \n",
    "    return theta"
   ]
  },
  {
   "cell_type": "code",
   "execution_count": 346,
   "metadata": {},
   "outputs": [],
   "source": [
    "# Chia dữ liệu thành features (X) và target (y)\n",
    "X = data.drop('Chance of Admit', axis=1)\n",
    "y = np.where(data['Chance of Admit'] >= 0.75, 1, 0)"
   ]
  },
  {
   "cell_type": "code",
   "execution_count": 347,
   "metadata": {},
   "outputs": [],
   "source": [
    "# Thêm cột bias vào ma trận X\n",
    "X = np.column_stack((np.ones(len(X)), X))\n",
    "\n",
    "# Chia dữ liệu thành tập huấn luyện và tập kiểm tra\n",
    "X_train, X_test = X[:350], X[350:]\n",
    "y_train, y_test = y[:350], y[350:]"
   ]
  },
  {
   "cell_type": "code",
   "execution_count": 348,
   "metadata": {},
   "outputs": [],
   "source": [
    "eta = .05\n",
    "iterations = 10 ** 8"
   ]
  },
  {
   "cell_type": "code",
   "execution_count": 349,
   "metadata": {},
   "outputs": [],
   "source": [
    "model = LogisticRegression(max_iter=iterations)\n",
    "model.fit(X_train, y_train)\n",
    "\n",
    "sk_y_pred = model.predict(X_test)"
   ]
  },
  {
   "cell_type": "code",
   "execution_count": 350,
   "metadata": {},
   "outputs": [
    {
     "name": "stdout",
     "output_type": "stream",
     "text": [
      "Độ chính xác: 0.9\n"
     ]
    }
   ],
   "source": [
    "# Đánh giá mô hình\n",
    "accuracy = np.mean(sk_y_pred == y_test)\n",
    "print(\"Độ chính xác:\", accuracy)"
   ]
  },
  {
   "cell_type": "code",
   "execution_count": 351,
   "metadata": {},
   "outputs": [
    {
     "name": "stderr",
     "output_type": "stream",
     "text": [
      "C:\\Users\\Hoang Tu\\AppData\\Local\\Temp\\ipykernel_2416\\2582513912.py:3: RuntimeWarning: overflow encountered in exp\n",
      "  return 1 / (1 + np.exp(-z))\n"
     ]
    }
   ],
   "source": [
    "# Thực hiện gradient descent để tìm các tham số theta\n",
    "w = logistic_regression(X_train, y_train, eta, iterations)"
   ]
  },
  {
   "cell_type": "code",
   "execution_count": 352,
   "metadata": {},
   "outputs": [
    {
     "name": "stderr",
     "output_type": "stream",
     "text": [
      "C:\\Users\\Hoang Tu\\AppData\\Local\\Temp\\ipykernel_2416\\2582513912.py:3: RuntimeWarning: overflow encountered in exp\n",
      "  return 1 / (1 + np.exp(-z))\n"
     ]
    }
   ],
   "source": [
    "# Dự đoán trên tập kiểm tra\n",
    "z = np.dot(X_test, w)\n",
    "h = sigmoid(z)\n",
    "y_pred = np.where(h >= 0.75, 1, 0)"
   ]
  },
  {
   "cell_type": "code",
   "execution_count": 353,
   "metadata": {},
   "outputs": [
    {
     "name": "stdout",
     "output_type": "stream",
     "text": [
      "Độ chính xác: 0.88\n"
     ]
    }
   ],
   "source": [
    "# Đánh giá mô hình\n",
    "accuracy = np.mean(y_pred == y_test)\n",
    "print(\"Độ chính xác:\", accuracy)"
   ]
  },
  {
   "cell_type": "code",
   "execution_count": 354,
   "metadata": {},
   "outputs": [
    {
     "name": "stdout",
     "output_type": "stream",
     "text": [
      "    Real label  My solution  Sklearn\n",
      "0            0            0        0\n",
      "1            0            1        1\n",
      "2            0            0        0\n",
      "3            0            0        0\n",
      "4            0            0        0\n",
      "5            0            0        0\n",
      "6            1            1        1\n",
      "7            0            0        0\n",
      "8            0            0        0\n",
      "9            1            0        0\n",
      "10           1            1        1\n",
      "11           1            1        1\n",
      "12           1            1        1\n",
      "13           0            0        0\n",
      "14           1            1        0\n",
      "15           1            1        1\n",
      "16           0            1        0\n",
      "17           0            0        0\n",
      "18           0            0        0\n",
      "19           0            0        0\n",
      "20           0            0        0\n",
      "21           1            1        1\n",
      "22           1            1        1\n",
      "23           1            1        0\n",
      "24           0            0        0\n",
      "25           0            0        0\n",
      "26           0            0        0\n",
      "27           0            0        0\n",
      "28           0            0        0\n",
      "29           0            0        0\n",
      "30           1            1        1\n",
      "31           0            1        0\n",
      "32           1            1        1\n",
      "33           0            0        0\n",
      "34           1            1        1\n",
      "35           1            1        1\n",
      "36           0            0        0\n",
      "37           0            0        0\n",
      "38           0            0        0\n",
      "39           1            1        1\n",
      "40           0            0        0\n",
      "41           0            0        0\n",
      "42           1            1        1\n",
      "43           1            0        0\n",
      "44           1            1        1\n",
      "45           1            1        1\n",
      "46           1            1        1\n",
      "47           1            1        1\n",
      "48           0            1        0\n",
      "49           1            1        1\n"
     ]
    }
   ],
   "source": [
    "df = pd.DataFrame({'Real label': y_test, 'My solution': y_pred, 'Sklearn': sk_y_pred, })\n",
    "\n",
    "print(df)"
   ]
  },
  {
   "cell_type": "markdown",
   "metadata": {},
   "source": [
    "# Linear Regressiong Model"
   ]
  },
  {
   "cell_type": "code",
   "execution_count": 355,
   "metadata": {},
   "outputs": [
    {
     "name": "stdout",
     "output_type": "stream",
     "text": [
      "Độ chính xác: 0.78\n"
     ]
    }
   ],
   "source": [
    "model = LinearRegression()\n",
    "model.fit(X_train, y_train)\n",
    "linear_predict = np.where(model.predict(X_test) >= 0.75, 1, 0)\n",
    "\n",
    "accuracy = np.mean(linear_predict == y_test)\n",
    "print(\"Độ chính xác:\", accuracy)"
   ]
  },
  {
   "cell_type": "code",
   "execution_count": 356,
   "metadata": {},
   "outputs": [
    {
     "name": "stdout",
     "output_type": "stream",
     "text": [
      "    Real label  My solution  Sklearn  Linear\n",
      "0            0            0        0       0\n",
      "1            0            1        1       0\n",
      "2            0            0        0       0\n",
      "3            0            0        0       0\n",
      "4            0            0        0       0\n",
      "5            0            0        0       0\n",
      "6            1            1        1       0\n",
      "7            0            0        0       0\n",
      "8            0            0        0       0\n",
      "9            1            0        0       0\n",
      "10           1            1        1       0\n",
      "11           1            1        1       1\n",
      "12           1            1        1       1\n",
      "13           0            0        0       0\n",
      "14           1            1        0       0\n",
      "15           1            1        1       1\n",
      "16           0            1        0       0\n",
      "17           0            0        0       0\n",
      "18           0            0        0       0\n",
      "19           0            0        0       0\n",
      "20           0            0        0       0\n",
      "21           1            1        1       0\n",
      "22           1            1        1       1\n",
      "23           1            1        0       0\n",
      "24           0            0        0       0\n",
      "25           0            0        0       0\n",
      "26           0            0        0       0\n",
      "27           0            0        0       0\n",
      "28           0            0        0       0\n",
      "29           0            0        0       0\n",
      "30           1            1        1       0\n",
      "31           0            1        0       0\n",
      "32           1            1        1       1\n",
      "33           0            0        0       0\n",
      "34           1            1        1       1\n",
      "35           1            1        1       1\n",
      "36           0            0        0       0\n",
      "37           0            0        0       0\n",
      "38           0            0        0       0\n",
      "39           1            1        1       0\n",
      "40           0            0        0       0\n",
      "41           0            0        0       0\n",
      "42           1            1        1       1\n",
      "43           1            0        0       0\n",
      "44           1            1        1       1\n",
      "45           1            1        1       0\n",
      "46           1            1        1       0\n",
      "47           1            1        1       1\n",
      "48           0            1        0       0\n",
      "49           1            1        1       1\n"
     ]
    }
   ],
   "source": [
    "df[\"Linear\"] =  linear_predict\n",
    "print(df)"
   ]
  },
  {
   "cell_type": "markdown",
   "metadata": {},
   "source": [
    "# Navie Bayes"
   ]
  },
  {
   "cell_type": "code",
   "execution_count": 357,
   "metadata": {},
   "outputs": [
    {
     "name": "stdout",
     "output_type": "stream",
     "text": [
      "Độ chính xác: 0.86\n"
     ]
    }
   ],
   "source": [
    "model = MultinomialNB()\n",
    "model.fit(X_train, y_train)\n",
    "NB_predict = np.where(model.predict(X_test) >= 0.75, 1, 0)\n",
    "\n",
    "accuracy = np.mean(NB_predict == y_test)\n",
    "print(\"Độ chính xác:\", accuracy)"
   ]
  },
  {
   "cell_type": "code",
   "execution_count": 358,
   "metadata": {},
   "outputs": [
    {
     "name": "stdout",
     "output_type": "stream",
     "text": [
      "    Real label  My solution  Sklearn  Linear  MNB\n",
      "0            0            0        0       0    0\n",
      "1            0            1        1       0    1\n",
      "2            0            0        0       0    0\n",
      "3            0            0        0       0    0\n",
      "4            0            0        0       0    0\n",
      "5            0            0        0       0    0\n",
      "6            1            1        1       0    1\n",
      "7            0            0        0       0    0\n",
      "8            0            0        0       0    0\n",
      "9            1            0        0       0    0\n",
      "10           1            1        1       0    1\n",
      "11           1            1        1       1    1\n",
      "12           1            1        1       1    1\n",
      "13           0            0        0       0    0\n",
      "14           1            1        0       0    1\n",
      "15           1            1        1       1    1\n",
      "16           0            1        0       0    1\n",
      "17           0            0        0       0    0\n",
      "18           0            0        0       0    0\n",
      "19           0            0        0       0    0\n",
      "20           0            0        0       0    0\n",
      "21           1            1        1       0    0\n",
      "22           1            1        1       1    1\n",
      "23           1            1        0       0    0\n",
      "24           0            0        0       0    0\n",
      "25           0            0        0       0    0\n",
      "26           0            0        0       0    0\n",
      "27           0            0        0       0    0\n",
      "28           0            0        0       0    0\n",
      "29           0            0        0       0    0\n",
      "30           1            1        1       0    1\n",
      "31           0            1        0       0    0\n",
      "32           1            1        1       1    1\n",
      "33           0            0        0       0    0\n",
      "34           1            1        1       1    1\n",
      "35           1            1        1       1    1\n",
      "36           0            0        0       0    0\n",
      "37           0            0        0       0    0\n",
      "38           0            0        0       0    0\n",
      "39           1            1        1       0    1\n",
      "40           0            0        0       0    0\n",
      "41           0            0        0       0    0\n",
      "42           1            1        1       1    1\n",
      "43           1            0        0       0    0\n",
      "44           1            1        1       1    1\n",
      "45           1            1        1       0    1\n",
      "46           1            1        1       0    0\n",
      "47           1            1        1       1    1\n",
      "48           0            1        0       0    0\n",
      "49           1            1        1       1    1\n"
     ]
    }
   ],
   "source": [
    "df[\"MNB\"] =  NB_predict\n",
    "print(df)"
   ]
  },
  {
   "cell_type": "code",
   "execution_count": 359,
   "metadata": {},
   "outputs": [
    {
     "name": "stdout",
     "output_type": "stream",
     "text": [
      "Độ chính xác: 0.8\n"
     ]
    }
   ],
   "source": [
    "model = BernoulliNB()\n",
    "model.fit(X_train, y_train)\n",
    "NB_predict = np.where(model.predict(X_test) >= 0.75, 1, 0)\n",
    "\n",
    "accuracy = np.mean(NB_predict == y_test)\n",
    "print(\"Độ chính xác:\", accuracy)"
   ]
  },
  {
   "cell_type": "code",
   "execution_count": 360,
   "metadata": {},
   "outputs": [
    {
     "name": "stdout",
     "output_type": "stream",
     "text": [
      "    Real label  My solution  Sklearn  Linear  MNB  BNB\n",
      "0            0            0        0       0    0    1\n",
      "1            0            1        1       0    1    1\n",
      "2            0            0        0       0    0    1\n",
      "3            0            0        0       0    0    0\n",
      "4            0            0        0       0    0    0\n",
      "5            0            0        0       0    0    0\n",
      "6            1            1        1       0    1    1\n",
      "7            0            0        0       0    0    1\n",
      "8            0            0        0       0    0    0\n",
      "9            1            0        0       0    0    0\n",
      "10           1            1        1       0    1    1\n",
      "11           1            1        1       1    1    1\n",
      "12           1            1        1       1    1    1\n",
      "13           0            0        0       0    0    0\n",
      "14           1            1        0       0    1    1\n",
      "15           1            1        1       1    1    1\n",
      "16           0            1        0       0    1    1\n",
      "17           0            0        0       0    0    0\n",
      "18           0            0        0       0    0    0\n",
      "19           0            0        0       0    0    1\n",
      "20           0            0        0       0    0    0\n",
      "21           1            1        1       0    0    1\n",
      "22           1            1        1       1    1    1\n",
      "23           1            1        0       0    0    1\n",
      "24           0            0        0       0    0    0\n",
      "25           0            0        0       0    0    0\n",
      "26           0            0        0       0    0    0\n",
      "27           0            0        0       0    0    0\n",
      "28           0            0        0       0    0    0\n",
      "29           0            0        0       0    0    1\n",
      "30           1            1        1       0    1    1\n",
      "31           0            1        0       0    0    1\n",
      "32           1            1        1       1    1    1\n",
      "33           0            0        0       0    0    0\n",
      "34           1            1        1       1    1    1\n",
      "35           1            1        1       1    1    1\n",
      "36           0            0        0       0    0    0\n",
      "37           0            0        0       0    0    0\n",
      "38           0            0        0       0    0    0\n",
      "39           1            1        1       0    1    1\n",
      "40           0            0        0       0    0    0\n",
      "41           0            0        0       0    0    0\n",
      "42           1            1        1       1    1    1\n",
      "43           1            0        0       0    0    0\n",
      "44           1            1        1       1    1    1\n",
      "45           1            1        1       0    1    1\n",
      "46           1            1        1       0    0    1\n",
      "47           1            1        1       1    1    1\n",
      "48           0            1        0       0    0    0\n",
      "49           1            1        1       1    1    1\n"
     ]
    }
   ],
   "source": [
    "df[\"BNB\"] =  NB_predict\n",
    "print(df)"
   ]
  }
 ],
 "metadata": {
  "kernelspec": {
   "display_name": "Python 3",
   "language": "python",
   "name": "python3"
  },
  "language_info": {
   "codemirror_mode": {
    "name": "ipython",
    "version": 3
   },
   "file_extension": ".py",
   "mimetype": "text/x-python",
   "name": "python",
   "nbconvert_exporter": "python",
   "pygments_lexer": "ipython3",
   "version": "3.11.4"
  }
 },
 "nbformat": 4,
 "nbformat_minor": 2
}
