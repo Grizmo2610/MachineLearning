{
 "cells": [
  {
   "cell_type": "markdown",
   "metadata": {},
   "source": [
    "# Student information\n",
    "* Name: Hoang Tuan Tu\n",
    "* Student ID: 21000709\n",
    "* Class: K66A2"
   ]
  },
  {
   "cell_type": "markdown",
   "metadata": {},
   "source": [
    "# Import nessesary library"
   ]
  },
  {
   "cell_type": "code",
   "metadata": {
    "ExecuteTime": {
     "end_time": "2024-03-28T07:29:44.851545Z",
     "start_time": "2024-03-28T07:29:44.832918Z"
    }
   },
   "source": [
    "import numpy as np \n",
    "import pandas as pd\n",
    "from sklearn.model_selection import train_test_split\n",
    "import os\n",
    "import gzip\n",
    "import matplotlib.pyplot as plt\n",
    "import random\n",
    "from scipy import sparse\n",
    "from sklearn.decomposition import PCA\n",
    "from sklearn.preprocessing import StandardScaler\n",
    "from sklearn.linear_model import LogisticRegression\n",
    "from sklearn.metrics import accuracy_score\n",
    "import time\n",
    "from sklearn.naive_bayes import GaussianNB"
   ],
   "outputs": [],
   "execution_count": 20
  },
  {
   "cell_type": "markdown",
   "metadata": {},
   "source": [
    "* Reading data"
   ]
  },
  {
   "cell_type": "code",
   "metadata": {
    "ExecuteTime": {
     "end_time": "2024-03-28T07:29:44.940027Z",
     "start_time": "2024-03-28T07:29:44.927414Z"
    }
   },
   "source": [
    "data_path = \"C:\\HoangTu\\Programing\\\\University\\ML\\PCA\\digit\\data\"\n",
    "# train path\n",
    "train_images_path = os.path.join(data_path, 'train-images-idx3-ubyte.gz')\n",
    "train_labels_path = os.path.join(data_path, 'train-labels-idx1-ubyte.gz')\n",
    "# test path\n",
    "test_images_path = os.path.join(data_path, 't10k-images-idx3-ubyte.gz')\n",
    "test_labels_path = os.path.join(data_path, 't10k-labels-idx1-ubyte.gz')"
   ],
   "outputs": [],
   "execution_count": 21
  },
  {
   "cell_type": "markdown",
   "metadata": {},
   "source": [
    "* Define function"
   ]
  },
  {
   "cell_type": "code",
   "metadata": {
    "ExecuteTime": {
     "end_time": "2024-03-28T07:29:44.950153Z",
     "start_time": "2024-03-28T07:29:44.940027Z"
    }
   },
   "source": [
    "def get_mnist_data(images_path, labels_path, num_images, shuffle=False, _is=True, image_size=28):\n",
    "    \"\"\"\n",
    "    This shuffle param is active when .gz is downloaded at:\n",
    "    - 'http://yann.lecun.com/exdb/mnist/'\n",
    "    - This function return random num_images in 60000 or 10000\n",
    "    \"\"\"\n",
    "    # read data\n",
    "\n",
    "    # open file training to read training data\n",
    "    f_images = gzip.open(images_path,'r')\n",
    "    # skip 16 first bytes because these are not data, only header infor\n",
    "    f_images.read(16)\n",
    "    # general: read num_images data samples if this parameter is set;\n",
    "    # if not, read all (60000 training or 10000 test)\n",
    "    real_num = num_images if not shuffle else (60000 if _is else 10000)\n",
    "    # read all data to buf_images (28x28xreal_num)\n",
    "    buf_images = f_images.read(image_size * image_size * real_num)\n",
    "    # images\n",
    "    images = np.frombuffer(buf_images, dtype=np.uint8).astype(np.float32)\n",
    "    images = images.reshape(real_num, image_size, image_size,)\n",
    "    # Read labels\n",
    "    f_labels = gzip.open(labels_path,'r')\n",
    "    f_labels.read(8)\n",
    "    labels = np.zeros((real_num)).astype(np.int64)\n",
    "    # rearrange to correspond the images and labels\n",
    "    for i in range(0, real_num):\n",
    "        buf_labels = f_labels.read(1)\n",
    "        labels[i] = np.frombuffer(buf_labels, dtype=np.uint8).astype(np.int64)\n",
    "\n",
    "    # shuffle to get random images data\n",
    "    if shuffle is True:\n",
    "        rand_id = np.random.randint(real_num, size=num_images)\n",
    "        images = images[rand_id, :]\n",
    "        labels = labels[rand_id,]\n",
    "        # change images data to type of vector 28x28 dimentional\n",
    "        images = images.reshape(num_images, image_size * image_size)\n",
    "    return images, labels\n",
    "\n",
    "def get_image(image):\n",
    "    return image.reshape(28, 28)  \n",
    "\n",
    "def convert_labels(y, C):\n",
    "    Y = sparse.coo_matrix((np.ones_like(y),\n",
    "    (y, np.arange(len(y)))), shape = (C, len(y))).toarray()\n",
    "    return Y "
   ],
   "outputs": [],
   "execution_count": 22
  },
  {
   "cell_type": "markdown",
   "metadata": {},
   "source": [
    "* Check image"
   ]
  },
  {
   "cell_type": "code",
   "metadata": {
    "ExecuteTime": {
     "end_time": "2024-03-28T07:29:45.480875Z",
     "start_time": "2024-03-28T07:29:44.950153Z"
    }
   },
   "source": [
    "train_images, train_labels = get_mnist_data(train_images_path, train_labels_path, 5000, shuffle=True)\n",
    "test_images, test_labels = get_mnist_data(test_images_path, test_labels_path, 10000, _is=False, shuffle=True)\n",
    "print(train_images.shape, train_labels.shape)\n",
    "print(test_images.shape, test_labels.shape)"
   ],
   "outputs": [
    {
     "name": "stderr",
     "output_type": "stream",
     "text": [
      "C:\\Users\\Hoang Tu\\AppData\\Local\\Temp\\ipykernel_14772\\1400660986.py:28: DeprecationWarning: Conversion of an array with ndim > 0 to a scalar is deprecated, and will error in future. Ensure you extract a single element from your array before performing this operation. (Deprecated NumPy 1.25.)\n",
      "  labels[i] = np.frombuffer(buf_labels, dtype=np.uint8).astype(np.int64)\n"
     ]
    },
    {
     "name": "stdout",
     "output_type": "stream",
     "text": [
      "(5000, 784) (5000,)\n",
      "(10000, 784) (10000,)\n"
     ]
    }
   ],
   "execution_count": 23
  },
  {
   "cell_type": "markdown",
   "metadata": {},
   "source": [
    "* Show 2 random image"
   ]
  },
  {
   "cell_type": "code",
   "metadata": {
    "ExecuteTime": {
     "end_time": "2024-03-28T07:29:45.652395Z",
     "start_time": "2024-03-28T07:29:45.480875Z"
    }
   },
   "source": [
    "index = random.randint(0, 1000)\n",
    "print(train_labels[index], test_labels[index])\n",
    "train_image = np.asarray(get_image(train_images[index])).squeeze()\n",
    "test_image = np.asarray(get_image(test_images[index])).squeeze()\n",
    "plt.figure()\n",
    "#subplot(r,c) provide the no. of rows and columns\n",
    "f, axarr = plt.subplots(1, 2)\n",
    "# use the created array to output your multiple images. In this case I have stacked 4 images vertically\n",
    "axarr[0].imshow(train_image)\n",
    "axarr[1].imshow(test_image)\n",
    "plt.show()"
   ],
   "outputs": [
    {
     "name": "stdout",
     "output_type": "stream",
     "text": [
      "5 5\n"
     ]
    },
    {
     "data": {
      "text/plain": [
       "<Figure size 640x480 with 0 Axes>"
      ]
     },
     "metadata": {},
     "output_type": "display_data"
    },
    {
     "data": {
      "text/plain": [
       "<Figure size 640x480 with 2 Axes>"
      ],
      "image/png": "[encoded data removed]"
     },
     "metadata": {},
     "output_type": "display_data"
    }
   ],
   "execution_count": 24
  },
  {
   "cell_type": "code",
   "metadata": {
    "ExecuteTime": {
     "end_time": "2024-03-28T07:29:45.814332Z",
     "start_time": "2024-03-28T07:29:45.652395Z"
    }
   },
   "source": [
    "X_train = np.concatenate((np.ones((1, train_images.shape[0])), train_images.T),axis = 0)\n",
    "\n",
    "Y_train = convert_labels(train_labels, 10)\n",
    "print(X_train.shape)\n",
    "print(Y_train.shape)\n",
    "train_image = np.asarray(get_image(train_images[index])).squeeze()\n",
    "test_image = np.asarray(get_image(test_images[index])).squeeze()\n",
    "plt.figure()\n",
    "#subplot(r,c) provide the no. of rows and columns\n",
    "f, axarr = plt.subplots(1, 2)\n",
    "# use the created array to output your multiple images. In this case I have stacked 4 images vertically\n",
    "axarr[0].imshow(train_image)\n",
    "axarr[1].imshow(test_image)\n",
    "plt.show()"
   ],
   "outputs": [
    {
     "name": "stdout",
     "output_type": "stream",
     "text": [
      "(785, 5000)\n",
      "(10, 5000)\n"
     ]
    },
    {
     "data": {
      "text/plain": [
       "<Figure size 640x480 with 0 Axes>"
      ]
     },
     "metadata": {},
     "output_type": "display_data"
    },
    {
     "data": {
      "text/plain": [
       "<Figure size 640x480 with 2 Axes>"
      ],
      "image/png": "[encoded data removed]"
     },
     "metadata": {},
     "output_type": "display_data"
    }
   ],
   "execution_count": 25
  },
  {
   "cell_type": "markdown",
   "metadata": {},
   "source": [
    "# Phan 1"
   ]
  },
  {
   "cell_type": "code",
   "metadata": {
    "ExecuteTime": {
     "end_time": "2024-03-28T07:29:47.538511Z",
     "start_time": "2024-03-28T07:29:45.814332Z"
    }
   },
   "source": [
    "model = PCA()\n",
    "X = StandardScaler().fit_transform(X_train)\n",
    "result = model.fit_transform(X)\n",
    "\n",
    "pc1 = - result[:,0]\n",
    "pc2 = - result[:,1]"
   ],
   "outputs": [],
   "execution_count": 26
  },
  {
   "cell_type": "code",
   "metadata": {
    "ExecuteTime": {
     "end_time": "2024-03-28T07:29:47.673152Z",
     "start_time": "2024-03-28T07:29:47.538511Z"
    }
   },
   "source": [
    "# Draw a chart\n",
    "plt.figure(figsize=(8, 6))\n",
    "plt.scatter(pc1, pc2, c='r')  # Color red with transparency 0.5\n",
    "plt.title('Scatter plot for PC1 and PC2')\n",
    "plt.xlabel('PC1')\n",
    "plt.ylabel('PC2')\n",
    "plt.grid(True)\n",
    "plt.show()"
   ],
   "outputs": [
    {
     "data": {
      "text/plain": [
       "<Figure size 800x600 with 1 Axes>"
      ],
      "image/png": "[encoded data removed]"
     },
     "metadata": {},
     "output_type": "display_data"
    }
   ],
   "execution_count": 27
  },
  {
   "cell_type": "markdown",
   "metadata": {},
   "source": [
    "# Phan 2"
   ]
  },
  {
   "cell_type": "code",
   "metadata": {
    "ExecuteTime": {
     "end_time": "2024-03-28T07:29:47.694908Z",
     "start_time": "2024-03-28T07:29:47.673152Z"
    }
   },
   "source": [
    "# Split the data into training and validation sets\n",
    "train_labels = np.array([train_labels])\n",
    "X_train, X_val, Y_train, Y_val = train_test_split(train_images, train_labels.T, test_size=0.3, random_state=42)"
   ],
   "outputs": [],
   "execution_count": 28
  },
  {
   "cell_type": "code",
   "metadata": {
    "ExecuteTime": {
     "end_time": "2024-03-28T07:29:54.651681Z",
     "start_time": "2024-03-28T07:29:47.695925Z"
    }
   },
   "source": [
    "# Initialize the Logistic Regression model\n",
    "model = LogisticRegression(multi_class='multinomial', solver='lbfgs', max_iter=1000)\n",
    "\n",
    "# Train the model and measure the runtime\n",
    "start_time = time.time()\n",
    "model.fit(X_train, Y_train)\n",
    "training_time = time.time() - start_time"
   ],
   "outputs": [
    {
     "name": "stderr",
     "output_type": "stream",
     "text": [
      "C:\\Users\\Hoang Tu\\AppData\\Local\\Programs\\Python\\Python311\\Lib\\site-packages\\sklearn\\utils\\validation.py:1183: DataConversionWarning: A column-vector y was passed when a 1d array was expected. Please change the shape of y to (n_samples, ), for example using ravel().\n",
      "  y = column_or_1d(y, warn=True)\n",
      "C:\\Users\\Hoang Tu\\AppData\\Local\\Programs\\Python\\Python311\\Lib\\site-packages\\sklearn\\linear_model\\_logistic.py:460: ConvergenceWarning: lbfgs failed to converge (status=1):\n",
      "STOP: TOTAL NO. of ITERATIONS REACHED LIMIT.\n",
      "\n",
      "Increase the number of iterations (max_iter) or scale the data as shown in:\n",
      "    https://scikit-learn.org/stable/modules/preprocessing.html\n",
      "Please also refer to the documentation for alternative solver options:\n",
      "    https://scikit-learn.org/stable/modules/linear_model.html#logistic-regression\n",
      "  n_iter_i = _check_optimize_result(\n"
     ]
    }
   ],
   "execution_count": 29
  },
  {
   "cell_type": "code",
   "metadata": {
    "ExecuteTime": {
     "end_time": "2024-03-28T07:29:54.664356Z",
     "start_time": "2024-03-28T07:29:54.651681Z"
    }
   },
   "source": [
    "# Predict labels for the validation set\n",
    "predictions = model.predict(X_val)\n",
    "# Evaluate accuracy on the validation set\n",
    "accuracy = accuracy_score(Y_val, predictions)"
   ],
   "outputs": [],
   "execution_count": 30
  },
  {
   "cell_type": "markdown",
   "metadata": {},
   "source": [
    "* Print out result"
   ]
  },
  {
   "cell_type": "code",
   "metadata": {
    "ExecuteTime": {
     "end_time": "2024-03-28T07:29:54.669573Z",
     "start_time": "2024-03-28T07:29:54.664356Z"
    }
   },
   "source": [
    "print(\"Accuracy on validation set:\", accuracy)\n",
    "print(\"Training time:\", training_time, \"seconds\")"
   ],
   "outputs": [
    {
     "name": "stdout",
     "output_type": "stream",
     "text": [
      "Accuracy on validation set: 0.8886666666666667\n",
      "Training time: 6.9447996616363525 seconds\n"
     ]
    }
   ],
   "execution_count": 31
  },
  {
   "cell_type": "markdown",
   "metadata": {},
   "source": [
    "# Phan 3"
   ]
  },
  {
   "cell_type": "markdown",
   "metadata": {},
   "source": [
    "## a Reduce the dimensionality of the original training data to 100 dimensions"
   ]
  },
  {
   "cell_type": "code",
   "metadata": {
    "ExecuteTime": {
     "end_time": "2024-03-28T07:29:55.350056Z",
     "start_time": "2024-03-28T07:29:54.669573Z"
    }
   },
   "source": [
    "pca = PCA(n_components=100)\n",
    "X_train_pca_a = pca.fit_transform(X_train)\n",
    "X_val_pca_a = pca.transform(X_val)"
   ],
   "outputs": [],
   "execution_count": 32
  },
  {
   "cell_type": "markdown",
   "metadata": {},
   "source": [
    "* Train the model on the reduced-dimensional data and evaluate the results"
   ]
  },
  {
   "cell_type": "code",
   "metadata": {
    "ExecuteTime": {
     "end_time": "2024-03-28T07:29:57.009703Z",
     "start_time": "2024-03-28T07:29:55.350056Z"
    }
   },
   "source": [
    "start_time = time.time()\n",
    "model_a = LogisticRegression(multi_class='multinomial', solver='lbfgs', max_iter=1000)\n",
    "model_a.fit(X_train_pca_a, Y_train)\n",
    "training_time_a = time.time() - start_time\n",
    "accuracy_a = model_a.score(X_val_pca_a, Y_val)"
   ],
   "outputs": [
    {
     "name": "stderr",
     "output_type": "stream",
     "text": [
      "C:\\Users\\Hoang Tu\\AppData\\Local\\Programs\\Python\\Python311\\Lib\\site-packages\\sklearn\\utils\\validation.py:1183: DataConversionWarning: A column-vector y was passed when a 1d array was expected. Please change the shape of y to (n_samples, ), for example using ravel().\n",
      "  y = column_or_1d(y, warn=True)\n",
      "C:\\Users\\Hoang Tu\\AppData\\Local\\Programs\\Python\\Python311\\Lib\\site-packages\\sklearn\\linear_model\\_logistic.py:460: ConvergenceWarning: lbfgs failed to converge (status=1):\n",
      "STOP: TOTAL NO. of ITERATIONS REACHED LIMIT.\n",
      "\n",
      "Increase the number of iterations (max_iter) or scale the data as shown in:\n",
      "    https://scikit-learn.org/stable/modules/preprocessing.html\n",
      "Please also refer to the documentation for alternative solver options:\n",
      "    https://scikit-learn.org/stable/modules/linear_model.html#logistic-regression\n",
      "  n_iter_i = _check_optimize_result(\n"
     ]
    }
   ],
   "execution_count": 33
  },
  {
   "cell_type": "markdown",
   "metadata": {},
   "source": [
    "* Print the results"
   ]
  },
  {
   "cell_type": "code",
   "metadata": {
    "ExecuteTime": {
     "end_time": "2024-03-28T07:29:57.014174Z",
     "start_time": "2024-03-28T07:29:57.009703Z"
    }
   },
   "source": [
    "print(\"Method a):\")\n",
    "print(\"Accuracy on validation set:\", accuracy_a)\n",
    "print(\"Training time:\", training_time_a, \"seconds\")"
   ],
   "outputs": [
    {
     "name": "stdout",
     "output_type": "stream",
     "text": [
      "Method a):\n",
      "Accuracy on validation set: 0.8246666666666667\n",
      "Training time: 1.6420280933380127 seconds\n"
     ]
    }
   ],
   "execution_count": 34
  },
  {
   "cell_type": "markdown",
   "metadata": {},
   "source": [
    "## b Reduce the dimensionality of each image in the training and validation sets to 100 dimensions"
   ]
  },
  {
   "cell_type": "code",
   "metadata": {
    "ExecuteTime": {
     "end_time": "2024-03-28T07:29:57.253023Z",
     "start_time": "2024-03-28T07:29:57.014174Z"
    }
   },
   "source": [
    "X_train_pca_b = pca.fit_transform(X_train)\n",
    "X_val_pca_b = pca.transform(X_val)\n"
   ],
   "outputs": [],
   "execution_count": 35
  },
  {
   "cell_type": "markdown",
   "metadata": {},
   "source": [
    "* Train the model on the reduced-dimensional training set and evaluate the results"
   ]
  },
  {
   "cell_type": "code",
   "metadata": {
    "ExecuteTime": {
     "end_time": "2024-03-28T07:29:58.765342Z",
     "start_time": "2024-03-28T07:29:57.253023Z"
    }
   },
   "source": [
    "start_time = time.time()\n",
    "model_b = LogisticRegression(multi_class='multinomial', solver='lbfgs', max_iter=1000)\n",
    "model_b.fit(X_train_pca_b, Y_train)\n",
    "training_time_b = time.time() - start_time\n",
    "accuracy_b = model_b.score(X_val_pca_b, Y_val)"
   ],
   "outputs": [
    {
     "name": "stderr",
     "output_type": "stream",
     "text": [
      "C:\\Users\\Hoang Tu\\AppData\\Local\\Programs\\Python\\Python311\\Lib\\site-packages\\sklearn\\utils\\validation.py:1183: DataConversionWarning: A column-vector y was passed when a 1d array was expected. Please change the shape of y to (n_samples, ), for example using ravel().\n",
      "  y = column_or_1d(y, warn=True)\n",
      "C:\\Users\\Hoang Tu\\AppData\\Local\\Programs\\Python\\Python311\\Lib\\site-packages\\sklearn\\linear_model\\_logistic.py:460: ConvergenceWarning: lbfgs failed to converge (status=1):\n",
      "STOP: TOTAL NO. of ITERATIONS REACHED LIMIT.\n",
      "\n",
      "Increase the number of iterations (max_iter) or scale the data as shown in:\n",
      "    https://scikit-learn.org/stable/modules/preprocessing.html\n",
      "Please also refer to the documentation for alternative solver options:\n",
      "    https://scikit-learn.org/stable/modules/linear_model.html#logistic-regression\n",
      "  n_iter_i = _check_optimize_result(\n"
     ]
    }
   ],
   "execution_count": 36
  },
  {
   "cell_type": "markdown",
   "metadata": {},
   "source": [
    "* Print Result"
   ]
  },
  {
   "cell_type": "code",
   "metadata": {
    "ExecuteTime": {
     "end_time": "2024-03-28T07:29:58.769322Z",
     "start_time": "2024-03-28T07:29:58.765342Z"
    }
   },
   "source": [
    "print(\"\\nMethod b):\")\n",
    "print(\"Accuracy on validation set:\", accuracy_b)\n",
    "print(\"Training time:\", training_time_b, \"seconds\")"
   ],
   "outputs": [
    {
     "name": "stdout",
     "output_type": "stream",
     "text": [
      "\n",
      "Method b):\n",
      "Accuracy on validation set: 0.82\n",
      "Training time: 1.5038607120513916 seconds\n"
     ]
    }
   ],
   "execution_count": 37
  },
  {
   "cell_type": "markdown",
   "metadata": {},
   "source": [
    "# Phan 4"
   ]
  },
  {
   "cell_type": "markdown",
   "metadata": {},
   "source": [
    "## Train the model on the original data and evaluate the results"
   ]
  },
  {
   "cell_type": "code",
   "metadata": {
    "ExecuteTime": {
     "end_time": "2024-03-28T07:29:58.909211Z",
     "start_time": "2024-03-28T07:29:58.769322Z"
    }
   },
   "source": [
    "\n",
    "model_nb_a = GaussianNB()\n",
    "model_nb_a.fit(X_train, Y_train)\n",
    "accuracy_a = model_nb_a.score(X_val, Y_val)"
   ],
   "outputs": [
    {
     "name": "stderr",
     "output_type": "stream",
     "text": [
      "C:\\Users\\Hoang Tu\\AppData\\Local\\Programs\\Python\\Python311\\Lib\\site-packages\\sklearn\\utils\\validation.py:1183: DataConversionWarning: A column-vector y was passed when a 1d array was expected. Please change the shape of y to (n_samples, ), for example using ravel().\n",
      "  y = column_or_1d(y, warn=True)\n"
     ]
    }
   ],
   "execution_count": 38
  },
  {
   "cell_type": "markdown",
   "metadata": {},
   "source": [
    "* Print the results"
   ]
  },
  {
   "cell_type": "code",
   "metadata": {
    "ExecuteTime": {
     "end_time": "2024-03-28T07:29:58.914146Z",
     "start_time": "2024-03-28T07:29:58.909211Z"
    }
   },
   "source": [
    "print(\"Using original data:\")\n",
    "print(\"Accuracy on validation set:\", accuracy_a)"
   ],
   "outputs": [
    {
     "name": "stdout",
     "output_type": "stream",
     "text": [
      "Using original data:\n",
      "Accuracy on validation set: 0.6186666666666667\n"
     ]
    }
   ],
   "execution_count": 39
  },
  {
   "cell_type": "markdown",
   "metadata": {},
   "source": [
    "## Train the model on the dimensionality-reduced data and evaluate the results"
   ]
  },
  {
   "cell_type": "code",
   "metadata": {
    "ExecuteTime": {
     "end_time": "2024-03-28T07:29:58.943759Z",
     "start_time": "2024-03-28T07:29:58.914146Z"
    }
   },
   "source": [
    "model_nb_b = GaussianNB()\n",
    "model_nb_b.fit(X_train_pca_b, Y_train)\n",
    "accuracy_b = model_nb_b.score(X_val_pca_b, Y_val)"
   ],
   "outputs": [
    {
     "name": "stderr",
     "output_type": "stream",
     "text": [
      "C:\\Users\\Hoang Tu\\AppData\\Local\\Programs\\Python\\Python311\\Lib\\site-packages\\sklearn\\utils\\validation.py:1183: DataConversionWarning: A column-vector y was passed when a 1d array was expected. Please change the shape of y to (n_samples, ), for example using ravel().\n",
      "  y = column_or_1d(y, warn=True)\n"
     ]
    }
   ],
   "execution_count": 40
  },
  {
   "cell_type": "markdown",
   "metadata": {},
   "source": [
    "* Print result"
   ]
  },
  {
   "cell_type": "code",
   "metadata": {
    "ExecuteTime": {
     "end_time": "2024-03-28T07:29:58.948187Z",
     "start_time": "2024-03-28T07:29:58.943759Z"
    }
   },
   "source": [
    "print(\"\\nUsing dimensionality-reduced data:\")\n",
    "print(\"Accuracy on validation set:\", accuracy_b)"
   ],
   "outputs": [
    {
     "name": "stdout",
     "output_type": "stream",
     "text": [
      "\n",
      "Using dimensionality-reduced data:\n",
      "Accuracy on validation set: 0.8713333333333333\n"
     ]
    }
   ],
   "execution_count": 41
  }
 ],
 "metadata": {
  "kernelspec": {
   "display_name": "Python 3",
   "language": "python",
   "name": "python3"
  },
  "language_info": {
   "codemirror_mode": {
    "name": "ipython",
    "version": 3
   },
   "file_extension": ".py",
   "mimetype": "text/x-python",
   "name": "python",
   "nbconvert_exporter": "python",
   "pygments_lexer": "ipython3",
   "version": "3.11.4"
  }
 },
 "nbformat": 4,
 "nbformat_minor": 2
}
